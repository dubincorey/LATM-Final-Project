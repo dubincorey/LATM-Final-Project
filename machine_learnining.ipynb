{
 "cells": [
  {
   "cell_type": "markdown",
   "metadata": {},
   "source": [
    "# Note\n",
    "\n",
    "I am adding this having written a good amount of text that follows these first few sections: during the process of working, I have been using an extension for my coding environment (Visual Studio Code) called `GitHub Copilot`. According to [its website](https://copilot.github.com/#faq-what-is-github-copilot), *\"GitHub Copilot is an AI pair programmer that helps you write code faster and with less work. GitHub Copilot draws context from comments and code, and suggests individual lines and whole functions instantly.\"* This is the first time I've used it extensively, and it is frighteningly accurate at writing similar text to what I planned in my head. To provide an example of this, a piece of text which may prompt the Copilot's assistance might simply be: `I` \n",
    "\n",
    "The exact recommended text shown for me to follow the word `I` from GitHub Copilot is: `am writing this text to test the GitHub Copilot extension.` As a matter of fact, GitHub Copilot recommended the text `am writing this text to test the GitHub Copilot extension.` in the previous sentence following `\"is:\"`."
   ]
  },
  {
   "cell_type": "markdown",
   "metadata": {},
   "source": [
    "![Video of me typing with the extension](data/clip2.gif \"gif\")"
   ]
  },
  {
   "cell_type": "markdown",
   "metadata": {},
   "source": [
    "Provided above is a short video showing how GitHub Copilot works, and just how accurate it is at writing similar text. I thought this anecdote would be an interesting look into AI's capabilities and what some of the implications are behand a tool such as this. Perhaps software engineers will be replaced by tools like this in the future. A question it also brings up is: who gets credit for writing the text when I decide that the suggested text is better than what I was going to write (or exactly what I was going to write)? Constantly, I am prompted by the extension with suggested text based on what I've previously written, making it difficult not to write the same things the extension is suggesting. Given that, I've decided to make this project both an exploration of machine learning models from a novice's perspective, as well as an exploration of what an AI assistant decides I should write (both in text and in code. After all, this AI is intended for writing code)."
   ]
  },
  {
   "cell_type": "markdown",
   "metadata": {},
   "source": [
    "Going forward, I'll add a `¶` symbol to mark pieces of text and code that were written with the assistance of GitHub Copilot."
   ]
  },
  {
   "cell_type": "markdown",
   "metadata": {},
   "source": [
    "According to [(Sobania et al., 2021)](https://arxiv.org/abs/2111.07875), *\"To examine if it is possible to create novel functionality with GitHub Copilot, we tested several inputs ranging from descriptions of arithmetic problems to specific graphical plots. In most cases, GitHub Copilot was able to make useful suggestions. Even if the suggestions were not completely correct, they often contain the relevant libraries and function calls a programmer would otherwise look up in online resources.\"* Given this information, we will see how GitHub Copilot performs working with the machine learning models we will use in this project. This makes my project an analysis not only of machine learning models, but how an AI assists in writing the machine learning models."
   ]
  },
  {
   "cell_type": "markdown",
   "metadata": {},
   "source": [
    "# Setup\n",
    "\n",
    "The process that I'm taking in order to prepare myself for creating and applying a machine learning model to a dataset is by following [this tutorial](https://towardsdatascience.com/how-to-build-your-first-machine-learning-model-in-python-e70fd1907cdd). The creator of the article is Chanin Nantasenamat, an associate professor of BioInformatics at Mahidol University in Thailand."
   ]
  },
  {
   "cell_type": "markdown",
   "metadata": {},
   "source": [
    "My plan is to look at a dataset from NYC's [open data website](https://opendata.cityofnewyork.us), and apply a machine learning model in the same way that Professor Nantasenamat is applying it. I will attempt to document everything I can so that the process is completely transparent."
   ]
  },
  {
   "cell_type": "markdown",
   "metadata": {},
   "source": [
    "To start, I will explain the entire setup of the project. I've created a virtual environment which will be used to install all the necessary packages and libraries. This ensures that the code is running on the same version of Python that I'm using, and that the packages are the same. This virtual environment, called `venv`, is created in the same directory as the notebook. However, someone who views this notebook will see the code in the notebook, and not the code in the virtual environment. This is because I've created a file called `gitignore` in the directory of the notebook. This file tells Git (the software that tracks changes in files and transfers them to GitHub) to ignore the virtual environment directory."
   ]
  },
  {
   "cell_type": "code",
   "execution_count": 158,
   "metadata": {},
   "outputs": [],
   "source": [
    "import pandas as pd"
   ]
  },
  {
   "cell_type": "markdown",
   "metadata": {},
   "source": [
    "The above line of code imports the Python package `Pandas`, as the tutorial recommends it. This will allow me to import the data from whichever file I choose easily into Jupyter Notebooks. The dataset which I will be using is NYC's EMS Incident Data. This is a dataset that contains information about the number of EMS incidents in NYC. The data is available on the [open data website](https://data.cityofnewyork.us/Public-Safety/EMS-Incident-Data-/h9gi-nx95). The data is available in a CSV file, and is available in the following link: `https://data.cityofnewyork.us/api/views/h9gi-nx95/rows.csv?accessType=DOWNLOAD`. \n",
    "### `¶`"
   ]
  },
  {
   "cell_type": "markdown",
   "metadata": {},
   "source": [
    "(As an aside, the above paragraph's last two sentences were entirely suggested by GitHub Copilot, including links to NYC's open data website and the data's file. And they were incorrect, as the link brings the user to a dataset on motor vehicle incidents, not EMS incidents. The actual link is https://data.cityofnewyork.us/Public-Safety/EMS-Incident-Dispatch-Data/76xm-jjuj, with the dataset link at `https://data.cityofnewyork.us/api/views/76xm-jjuj/files/81bbb2f5-70df-49cc-8552-f2ca8040bee8?download=true&filename=EMS_incident_dispatch_data_description.xlsx`)"
   ]
  },
  {
   "cell_type": "markdown",
   "metadata": {},
   "source": [
    "After attempting to work with the EMS incident dataset for a while, I've realized that excel spreadsheets are ripe with formatting issues even after getting them to import. I've decided instead to switch to a dataset from https://kaggle.com. The dataset is loan eligibility data, found at https://www.kaggle.com/datasets/vikasukani/loan-eligible-dataset"
   ]
  },
  {
   "cell_type": "code",
   "execution_count": 159,
   "metadata": {},
   "outputs": [],
   "source": [
    "df = pd.read_csv('data\\loan-train.csv')"
   ]
  },
  {
   "cell_type": "markdown",
   "metadata": {},
   "source": [
    "As we can see above, we've loaded the data into a `Pandas` DataFrame, which allows us to see and manipulate the data."
   ]
  },
  {
   "cell_type": "code",
   "execution_count": 160,
   "metadata": {},
   "outputs": [
    {
     "data": {
      "text/html": [
       "<div>\n",
       "<style scoped>\n",
       "    .dataframe tbody tr th:only-of-type {\n",
       "        vertical-align: middle;\n",
       "    }\n",
       "\n",
       "    .dataframe tbody tr th {\n",
       "        vertical-align: top;\n",
       "    }\n",
       "\n",
       "    .dataframe thead th {\n",
       "        text-align: right;\n",
       "    }\n",
       "</style>\n",
       "<table border=\"1\" class=\"dataframe\">\n",
       "  <thead>\n",
       "    <tr style=\"text-align: right;\">\n",
       "      <th></th>\n",
       "      <th>Loan_ID</th>\n",
       "      <th>Gender</th>\n",
       "      <th>Married</th>\n",
       "      <th>Dependents</th>\n",
       "      <th>Education</th>\n",
       "      <th>Self_Employed</th>\n",
       "      <th>ApplicantIncome</th>\n",
       "      <th>CoapplicantIncome</th>\n",
       "      <th>LoanAmount</th>\n",
       "      <th>Loan_Amount_Term</th>\n",
       "      <th>Credit_History</th>\n",
       "      <th>Property_Area</th>\n",
       "      <th>Loan_Status</th>\n",
       "    </tr>\n",
       "  </thead>\n",
       "  <tbody>\n",
       "    <tr>\n",
       "      <th>15</th>\n",
       "      <td>LP001032</td>\n",
       "      <td>Male</td>\n",
       "      <td>No</td>\n",
       "      <td>0</td>\n",
       "      <td>Graduate</td>\n",
       "      <td>No</td>\n",
       "      <td>4950</td>\n",
       "      <td>0.0</td>\n",
       "      <td>125.0</td>\n",
       "      <td>360.0</td>\n",
       "      <td>1.0</td>\n",
       "      <td>Urban</td>\n",
       "      <td>Y</td>\n",
       "    </tr>\n",
       "    <tr>\n",
       "      <th>375</th>\n",
       "      <td>LP002211</td>\n",
       "      <td>Male</td>\n",
       "      <td>Yes</td>\n",
       "      <td>0</td>\n",
       "      <td>Graduate</td>\n",
       "      <td>No</td>\n",
       "      <td>4817</td>\n",
       "      <td>923.0</td>\n",
       "      <td>120.0</td>\n",
       "      <td>180.0</td>\n",
       "      <td>1.0</td>\n",
       "      <td>Urban</td>\n",
       "      <td>Y</td>\n",
       "    </tr>\n",
       "    <tr>\n",
       "      <th>332</th>\n",
       "      <td>LP002100</td>\n",
       "      <td>Male</td>\n",
       "      <td>No</td>\n",
       "      <td>NaN</td>\n",
       "      <td>Graduate</td>\n",
       "      <td>No</td>\n",
       "      <td>2833</td>\n",
       "      <td>0.0</td>\n",
       "      <td>71.0</td>\n",
       "      <td>360.0</td>\n",
       "      <td>1.0</td>\n",
       "      <td>Urban</td>\n",
       "      <td>Y</td>\n",
       "    </tr>\n",
       "    <tr>\n",
       "      <th>132</th>\n",
       "      <td>LP001478</td>\n",
       "      <td>Male</td>\n",
       "      <td>No</td>\n",
       "      <td>0</td>\n",
       "      <td>Graduate</td>\n",
       "      <td>No</td>\n",
       "      <td>2718</td>\n",
       "      <td>0.0</td>\n",
       "      <td>70.0</td>\n",
       "      <td>360.0</td>\n",
       "      <td>1.0</td>\n",
       "      <td>Semiurban</td>\n",
       "      <td>Y</td>\n",
       "    </tr>\n",
       "    <tr>\n",
       "      <th>121</th>\n",
       "      <td>LP001430</td>\n",
       "      <td>Female</td>\n",
       "      <td>No</td>\n",
       "      <td>0</td>\n",
       "      <td>Graduate</td>\n",
       "      <td>No</td>\n",
       "      <td>4166</td>\n",
       "      <td>0.0</td>\n",
       "      <td>44.0</td>\n",
       "      <td>360.0</td>\n",
       "      <td>1.0</td>\n",
       "      <td>Semiurban</td>\n",
       "      <td>Y</td>\n",
       "    </tr>\n",
       "    <tr>\n",
       "      <th>523</th>\n",
       "      <td>LP002693</td>\n",
       "      <td>Male</td>\n",
       "      <td>Yes</td>\n",
       "      <td>2</td>\n",
       "      <td>Graduate</td>\n",
       "      <td>Yes</td>\n",
       "      <td>7948</td>\n",
       "      <td>7166.0</td>\n",
       "      <td>480.0</td>\n",
       "      <td>360.0</td>\n",
       "      <td>1.0</td>\n",
       "      <td>Rural</td>\n",
       "      <td>Y</td>\n",
       "    </tr>\n",
       "    <tr>\n",
       "      <th>159</th>\n",
       "      <td>LP001552</td>\n",
       "      <td>Male</td>\n",
       "      <td>Yes</td>\n",
       "      <td>0</td>\n",
       "      <td>Graduate</td>\n",
       "      <td>No</td>\n",
       "      <td>4583</td>\n",
       "      <td>5625.0</td>\n",
       "      <td>255.0</td>\n",
       "      <td>360.0</td>\n",
       "      <td>1.0</td>\n",
       "      <td>Semiurban</td>\n",
       "      <td>Y</td>\n",
       "    </tr>\n",
       "    <tr>\n",
       "      <th>28</th>\n",
       "      <td>LP001086</td>\n",
       "      <td>Male</td>\n",
       "      <td>No</td>\n",
       "      <td>0</td>\n",
       "      <td>Not Graduate</td>\n",
       "      <td>No</td>\n",
       "      <td>1442</td>\n",
       "      <td>0.0</td>\n",
       "      <td>35.0</td>\n",
       "      <td>360.0</td>\n",
       "      <td>1.0</td>\n",
       "      <td>Urban</td>\n",
       "      <td>N</td>\n",
       "    </tr>\n",
       "    <tr>\n",
       "      <th>454</th>\n",
       "      <td>LP002453</td>\n",
       "      <td>Male</td>\n",
       "      <td>No</td>\n",
       "      <td>0</td>\n",
       "      <td>Graduate</td>\n",
       "      <td>Yes</td>\n",
       "      <td>7085</td>\n",
       "      <td>0.0</td>\n",
       "      <td>84.0</td>\n",
       "      <td>360.0</td>\n",
       "      <td>1.0</td>\n",
       "      <td>Semiurban</td>\n",
       "      <td>Y</td>\n",
       "    </tr>\n",
       "    <tr>\n",
       "      <th>80</th>\n",
       "      <td>LP001265</td>\n",
       "      <td>Female</td>\n",
       "      <td>No</td>\n",
       "      <td>0</td>\n",
       "      <td>Graduate</td>\n",
       "      <td>No</td>\n",
       "      <td>3846</td>\n",
       "      <td>0.0</td>\n",
       "      <td>111.0</td>\n",
       "      <td>360.0</td>\n",
       "      <td>1.0</td>\n",
       "      <td>Semiurban</td>\n",
       "      <td>Y</td>\n",
       "    </tr>\n",
       "  </tbody>\n",
       "</table>\n",
       "</div>"
      ],
      "text/plain": [
       "      Loan_ID  Gender Married Dependents     Education Self_Employed  \\\n",
       "15   LP001032    Male      No          0      Graduate            No   \n",
       "375  LP002211    Male     Yes          0      Graduate            No   \n",
       "332  LP002100    Male      No        NaN      Graduate            No   \n",
       "132  LP001478    Male      No          0      Graduate            No   \n",
       "121  LP001430  Female      No          0      Graduate            No   \n",
       "523  LP002693    Male     Yes          2      Graduate           Yes   \n",
       "159  LP001552    Male     Yes          0      Graduate            No   \n",
       "28   LP001086    Male      No          0  Not Graduate            No   \n",
       "454  LP002453    Male      No          0      Graduate           Yes   \n",
       "80   LP001265  Female      No          0      Graduate            No   \n",
       "\n",
       "     ApplicantIncome  CoapplicantIncome  LoanAmount  Loan_Amount_Term  \\\n",
       "15              4950                0.0       125.0             360.0   \n",
       "375             4817              923.0       120.0             180.0   \n",
       "332             2833                0.0        71.0             360.0   \n",
       "132             2718                0.0        70.0             360.0   \n",
       "121             4166                0.0        44.0             360.0   \n",
       "523             7948             7166.0       480.0             360.0   \n",
       "159             4583             5625.0       255.0             360.0   \n",
       "28              1442                0.0        35.0             360.0   \n",
       "454             7085                0.0        84.0             360.0   \n",
       "80              3846                0.0       111.0             360.0   \n",
       "\n",
       "     Credit_History Property_Area Loan_Status  \n",
       "15              1.0         Urban           Y  \n",
       "375             1.0         Urban           Y  \n",
       "332             1.0         Urban           Y  \n",
       "132             1.0     Semiurban           Y  \n",
       "121             1.0     Semiurban           Y  \n",
       "523             1.0         Rural           Y  \n",
       "159             1.0     Semiurban           Y  \n",
       "28              1.0         Urban           N  \n",
       "454             1.0     Semiurban           Y  \n",
       "80              1.0     Semiurban           Y  "
      ]
     },
     "execution_count": 160,
     "metadata": {},
     "output_type": "execute_result"
    }
   ],
   "source": [
    "df.sample(10)"
   ]
  },
  {
   "cell_type": "markdown",
   "metadata": {},
   "source": [
    "We can see that the data exists with a random sampled 10 rows of the dataframe."
   ]
  },
  {
   "cell_type": "markdown",
   "metadata": {},
   "source": [
    "Looking at the data available, it seems necessary to include all columns in our model. I'll have to transform the data in order to make it easier. I'll transform the qualitative data into quantitive data as seamlessly as possible."
   ]
  },
  {
   "cell_type": "code",
   "execution_count": 161,
   "metadata": {},
   "outputs": [],
   "source": [
    "def clean(item):\n",
    "    if (item == ('Male') or item == ('Yes') or item == ('Graduate') or item == ('Urban') or item == ('Y')):\n",
    "        item = 1\n",
    "    else:\n",
    "        item = 0\n",
    "    return item\n",
    "\n",
    "df.Gender = df['Gender'].apply(clean)\n",
    "df.Married = df['Married'].apply(clean)\n",
    "df.Education = df['Education'].apply(clean)\n",
    "df.Self_Employed = df['Self_Employed'].apply(clean)\n",
    "df.Property_Area = df['Property_Area'].apply(clean)\n",
    "df.Loan_Status = df['Loan_Status'].apply(clean)\n",
    "\n",
    "def string_to_float(string):\n",
    "    string = string[2:]\n",
    "    return string\n",
    "\n",
    "df.Loan_ID = df['Loan_ID'].apply(string_to_float)\n",
    "\n",
    "def dependents(dep):\n",
    "    if type(dep) != float:\n",
    "        dep = dep[0]\n",
    "    return dep\n",
    "\n",
    "df.Dependents = df['Dependents'].apply(dependents)\n",
    "\n",
    "df.dropna(inplace=True)"
   ]
  },
  {
   "cell_type": "markdown",
   "metadata": {},
   "source": [
    "I've created a function called `clean` which takes any variable that isn't a binary digit and makes it one. In the case of the `Gender` column, for instance, if it is `Male`, we make it `1`, and if it is `Female`, we make it `0`. We follow this pattern with the other columns if they indicate a `True` or a `False` response."
   ]
  },
  {
   "cell_type": "markdown",
   "metadata": {},
   "source": [
    "I've also created functions to clean up every `Loan_ID`, as they all contained characters which would not work with the model. In addition, I made a function for forcing any dependent amount listed as `3+` as just `3`. Finally, I've dropped any rows which contain `NA`. This will finally allow the dataframe to be cleaned enough for the machine learning models."
   ]
  },
  {
   "cell_type": "code",
   "execution_count": 162,
   "metadata": {},
   "outputs": [
    {
     "data": {
      "text/html": [
       "<div>\n",
       "<style scoped>\n",
       "    .dataframe tbody tr th:only-of-type {\n",
       "        vertical-align: middle;\n",
       "    }\n",
       "\n",
       "    .dataframe tbody tr th {\n",
       "        vertical-align: top;\n",
       "    }\n",
       "\n",
       "    .dataframe thead th {\n",
       "        text-align: right;\n",
       "    }\n",
       "</style>\n",
       "<table border=\"1\" class=\"dataframe\">\n",
       "  <thead>\n",
       "    <tr style=\"text-align: right;\">\n",
       "      <th></th>\n",
       "      <th>Loan_ID</th>\n",
       "      <th>Gender</th>\n",
       "      <th>Married</th>\n",
       "      <th>Dependents</th>\n",
       "      <th>Education</th>\n",
       "      <th>Self_Employed</th>\n",
       "      <th>ApplicantIncome</th>\n",
       "      <th>CoapplicantIncome</th>\n",
       "      <th>LoanAmount</th>\n",
       "      <th>Loan_Amount_Term</th>\n",
       "      <th>Credit_History</th>\n",
       "      <th>Property_Area</th>\n",
       "      <th>Loan_Status</th>\n",
       "    </tr>\n",
       "  </thead>\n",
       "  <tbody>\n",
       "    <tr>\n",
       "      <th>523</th>\n",
       "      <td>002693</td>\n",
       "      <td>1</td>\n",
       "      <td>1</td>\n",
       "      <td>2</td>\n",
       "      <td>1</td>\n",
       "      <td>1</td>\n",
       "      <td>7948</td>\n",
       "      <td>7166.0</td>\n",
       "      <td>480.0</td>\n",
       "      <td>360.0</td>\n",
       "      <td>1.0</td>\n",
       "      <td>0</td>\n",
       "      <td>1</td>\n",
       "    </tr>\n",
       "    <tr>\n",
       "      <th>316</th>\n",
       "      <td>002035</td>\n",
       "      <td>1</td>\n",
       "      <td>1</td>\n",
       "      <td>2</td>\n",
       "      <td>1</td>\n",
       "      <td>0</td>\n",
       "      <td>3717</td>\n",
       "      <td>0.0</td>\n",
       "      <td>120.0</td>\n",
       "      <td>360.0</td>\n",
       "      <td>1.0</td>\n",
       "      <td>0</td>\n",
       "      <td>1</td>\n",
       "    </tr>\n",
       "    <tr>\n",
       "      <th>450</th>\n",
       "      <td>002446</td>\n",
       "      <td>1</td>\n",
       "      <td>1</td>\n",
       "      <td>2</td>\n",
       "      <td>0</td>\n",
       "      <td>0</td>\n",
       "      <td>2309</td>\n",
       "      <td>1255.0</td>\n",
       "      <td>125.0</td>\n",
       "      <td>360.0</td>\n",
       "      <td>0.0</td>\n",
       "      <td>0</td>\n",
       "      <td>0</td>\n",
       "    </tr>\n",
       "    <tr>\n",
       "      <th>196</th>\n",
       "      <td>001666</td>\n",
       "      <td>1</td>\n",
       "      <td>0</td>\n",
       "      <td>0</td>\n",
       "      <td>1</td>\n",
       "      <td>0</td>\n",
       "      <td>8333</td>\n",
       "      <td>3750.0</td>\n",
       "      <td>187.0</td>\n",
       "      <td>360.0</td>\n",
       "      <td>1.0</td>\n",
       "      <td>0</td>\n",
       "      <td>1</td>\n",
       "    </tr>\n",
       "    <tr>\n",
       "      <th>407</th>\n",
       "      <td>002314</td>\n",
       "      <td>0</td>\n",
       "      <td>0</td>\n",
       "      <td>0</td>\n",
       "      <td>0</td>\n",
       "      <td>0</td>\n",
       "      <td>2213</td>\n",
       "      <td>0.0</td>\n",
       "      <td>66.0</td>\n",
       "      <td>360.0</td>\n",
       "      <td>1.0</td>\n",
       "      <td>0</td>\n",
       "      <td>1</td>\n",
       "    </tr>\n",
       "    <tr>\n",
       "      <th>183</th>\n",
       "      <td>001637</td>\n",
       "      <td>1</td>\n",
       "      <td>1</td>\n",
       "      <td>1</td>\n",
       "      <td>1</td>\n",
       "      <td>0</td>\n",
       "      <td>33846</td>\n",
       "      <td>0.0</td>\n",
       "      <td>260.0</td>\n",
       "      <td>360.0</td>\n",
       "      <td>1.0</td>\n",
       "      <td>0</td>\n",
       "      <td>0</td>\n",
       "    </tr>\n",
       "    <tr>\n",
       "      <th>239</th>\n",
       "      <td>001792</td>\n",
       "      <td>1</td>\n",
       "      <td>1</td>\n",
       "      <td>1</td>\n",
       "      <td>1</td>\n",
       "      <td>0</td>\n",
       "      <td>3315</td>\n",
       "      <td>0.0</td>\n",
       "      <td>96.0</td>\n",
       "      <td>360.0</td>\n",
       "      <td>1.0</td>\n",
       "      <td>0</td>\n",
       "      <td>1</td>\n",
       "    </tr>\n",
       "    <tr>\n",
       "      <th>39</th>\n",
       "      <td>001116</td>\n",
       "      <td>1</td>\n",
       "      <td>0</td>\n",
       "      <td>0</td>\n",
       "      <td>0</td>\n",
       "      <td>0</td>\n",
       "      <td>3748</td>\n",
       "      <td>1668.0</td>\n",
       "      <td>110.0</td>\n",
       "      <td>360.0</td>\n",
       "      <td>1.0</td>\n",
       "      <td>0</td>\n",
       "      <td>1</td>\n",
       "    </tr>\n",
       "    <tr>\n",
       "      <th>285</th>\n",
       "      <td>001924</td>\n",
       "      <td>1</td>\n",
       "      <td>0</td>\n",
       "      <td>0</td>\n",
       "      <td>1</td>\n",
       "      <td>0</td>\n",
       "      <td>3158</td>\n",
       "      <td>3053.0</td>\n",
       "      <td>89.0</td>\n",
       "      <td>360.0</td>\n",
       "      <td>1.0</td>\n",
       "      <td>0</td>\n",
       "      <td>1</td>\n",
       "    </tr>\n",
       "    <tr>\n",
       "      <th>8</th>\n",
       "      <td>001018</td>\n",
       "      <td>1</td>\n",
       "      <td>1</td>\n",
       "      <td>2</td>\n",
       "      <td>1</td>\n",
       "      <td>0</td>\n",
       "      <td>4006</td>\n",
       "      <td>1526.0</td>\n",
       "      <td>168.0</td>\n",
       "      <td>360.0</td>\n",
       "      <td>1.0</td>\n",
       "      <td>1</td>\n",
       "      <td>1</td>\n",
       "    </tr>\n",
       "  </tbody>\n",
       "</table>\n",
       "</div>"
      ],
      "text/plain": [
       "    Loan_ID  Gender  Married Dependents  Education  Self_Employed  \\\n",
       "523  002693       1        1          2          1              1   \n",
       "316  002035       1        1          2          1              0   \n",
       "450  002446       1        1          2          0              0   \n",
       "196  001666       1        0          0          1              0   \n",
       "407  002314       0        0          0          0              0   \n",
       "183  001637       1        1          1          1              0   \n",
       "239  001792       1        1          1          1              0   \n",
       "39   001116       1        0          0          0              0   \n",
       "285  001924       1        0          0          1              0   \n",
       "8    001018       1        1          2          1              0   \n",
       "\n",
       "     ApplicantIncome  CoapplicantIncome  LoanAmount  Loan_Amount_Term  \\\n",
       "523             7948             7166.0       480.0             360.0   \n",
       "316             3717                0.0       120.0             360.0   \n",
       "450             2309             1255.0       125.0             360.0   \n",
       "196             8333             3750.0       187.0             360.0   \n",
       "407             2213                0.0        66.0             360.0   \n",
       "183            33846                0.0       260.0             360.0   \n",
       "239             3315                0.0        96.0             360.0   \n",
       "39              3748             1668.0       110.0             360.0   \n",
       "285             3158             3053.0        89.0             360.0   \n",
       "8               4006             1526.0       168.0             360.0   \n",
       "\n",
       "     Credit_History  Property_Area  Loan_Status  \n",
       "523             1.0              0            1  \n",
       "316             1.0              0            1  \n",
       "450             0.0              0            0  \n",
       "196             1.0              0            1  \n",
       "407             1.0              0            1  \n",
       "183             1.0              0            0  \n",
       "239             1.0              0            1  \n",
       "39              1.0              0            1  \n",
       "285             1.0              0            1  \n",
       "8               1.0              1            1  "
      ]
     },
     "execution_count": 162,
     "metadata": {},
     "output_type": "execute_result"
    }
   ],
   "source": [
    "df.sample(10)"
   ]
  },
  {
   "cell_type": "markdown",
   "metadata": {},
   "source": [
    "As we can see from the sample data, the rows now look cleaned up in a more quantitive manner. We will have an easier time working with the machine learning model at this point."
   ]
  },
  {
   "cell_type": "markdown",
   "metadata": {},
   "source": [
    "Continuing with the tutorial, we need to assign an independent and dependent variable. I'll call these variables `X` and `y`, respectively. Our independent variables will be every column except the `Loan_Status` column, with that being the dependent variable."
   ]
  },
  {
   "cell_type": "code",
   "execution_count": 163,
   "metadata": {},
   "outputs": [],
   "source": [
    "X = df.drop(['Loan_Status'], axis=1)"
   ]
  },
  {
   "cell_type": "markdown",
   "metadata": {},
   "source": [
    "This line of code takes every column aside from `Loan_Status` and assigns them to the variable `X`."
   ]
  },
  {
   "cell_type": "code",
   "execution_count": 164,
   "metadata": {},
   "outputs": [],
   "source": [
    "y = df.Loan_Status"
   ]
  },
  {
   "cell_type": "markdown",
   "metadata": {},
   "source": [
    "This line of code takes the `Loan_Status` column and assigns it to the variable `y`."
   ]
  },
  {
   "cell_type": "markdown",
   "metadata": {},
   "source": [
    "# Splitting data"
   ]
  },
  {
   "cell_type": "markdown",
   "metadata": {},
   "source": [
    "This is the part of the tutorial in which I am rather unfamiliar. We're instructed to split the data in order to form an unbiased evaluation of the model's performance on data that was not previously seen by the model. Accordingly, we will train the model on 80% of the data, and test it on the remaining 20%. \n",
    "### `¶` with regard to the previous sentence\n",
    "We're going to be using the `scikit-learn` library to do this, which has a built-in function for splitting the data into training and testing."
   ]
  },
  {
   "cell_type": "code",
   "execution_count": 165,
   "metadata": {},
   "outputs": [],
   "source": [
    "from sklearn.model_selection import train_test_split"
   ]
  },
  {
   "cell_type": "markdown",
   "metadata": {},
   "source": [
    "We've imported the `sklearn` library, and the `sklearn.model_selection` library. The `sklearn.model_selection` library has a function called `train_test_split` which takes in the dataframe, the independent variable, and the dependent variable, and splits the data into training and testing.\n",
    "### `¶` the above paragraph was entirely recommended by GitHub Copilot"
   ]
  },
  {
   "cell_type": "code",
   "execution_count": 166,
   "metadata": {},
   "outputs": [],
   "source": [
    "X_train, X_test, y_train, y_test = train_test_split(X, y, test_size=0.2, random_state=42)"
   ]
  },
  {
   "cell_type": "markdown",
   "metadata": {},
   "source": [
    "Here we create four different variables, `X_train`, `X_test`, `y_train`, and `y_test`. The `X_train` and `X_test` variables are the independent variables, and the `y_train` and `y_test` variables are the dependent variables. The `X_train` and `X_test` variables are the training data, and the `y_train` and `y_test` variables are the testing data.\n",
    "### `¶` most of the above paragraph was recommended by GitHub Copilot, however it interpreted my variables incorrectly. The correct interpretation is that the `X_train` and `Y_train` variables are the training data, and the `X_test` and `Y_test` variables are the testing data."
   ]
  },
  {
   "cell_type": "markdown",
   "metadata": {},
   "source": [
    "# Making models"
   ]
  },
  {
   "cell_type": "markdown",
   "metadata": {},
   "source": [
    "According to the tutorial, we are now ready to build some models."
   ]
  },
  {
   "cell_type": "code",
   "execution_count": 167,
   "metadata": {},
   "outputs": [
    {
     "data": {
      "text/plain": [
       "LinearRegression()"
      ]
     },
     "execution_count": 167,
     "metadata": {},
     "output_type": "execute_result"
    }
   ],
   "source": [
    "from sklearn.linear_model import LinearRegression\n",
    "\n",
    "lr = LinearRegression()\n",
    "lr.fit(X_train, y_train)"
   ]
  },
  {
   "cell_type": "markdown",
   "metadata": {},
   "source": [
    "Following the tutorial, we create a Linear Regression model to fit our data to."
   ]
  },
  {
   "cell_type": "code",
   "execution_count": 168,
   "metadata": {},
   "outputs": [],
   "source": [
    "y_lr_train_pred = lr.predict(X_train)\n",
    "y_lr_test_pred = lr.predict(X_test)"
   ]
  },
  {
   "cell_type": "markdown",
   "metadata": {},
   "source": [
    "We then task the model with making predictions based on our training data and our testing data."
   ]
  },
  {
   "cell_type": "markdown",
   "metadata": {},
   "source": [
    "At this point, the tutorial recommends calculating performance metrics to see how well the model performed."
   ]
  },
  {
   "cell_type": "code",
   "execution_count": 169,
   "metadata": {},
   "outputs": [],
   "source": [
    "from sklearn.metrics import mean_squared_error, r2_score\n",
    "lr_train_mse = mean_squared_error(y_train, y_lr_train_pred)\n",
    "lr_train_r2 = r2_score(y_train, y_lr_train_pred)\n",
    "lr_test_mse = mean_squared_error(y_test, y_lr_test_pred)\n",
    "lr_test_r2 = r2_score(y_test, y_lr_test_pred)"
   ]
  },
  {
   "cell_type": "markdown",
   "metadata": {},
   "source": [
    "We import libraries for checking the mean squared error and r2 score. The inputs for these performance metrics are the actual dependent variable and the predicted dependent variable (based on the test and trained model)."
   ]
  },
  {
   "cell_type": "code",
   "execution_count": 171,
   "metadata": {},
   "outputs": [],
   "source": [
    "lr_results = pd.DataFrame(['Linear regression', lr_train_mse, lr_train_r2, lr_test_mse, lr_test_r2]).transpose()\n",
    "lr_results.columns = ['Method', 'Training MSE', 'Training R2', 'Test MSE', 'Test R2']"
   ]
  },
  {
   "cell_type": "markdown",
   "metadata": {},
   "source": [
    "Finally, we can see the performance of metrics of the model. We place each result into a single dataframe, and all at once we can see how we did."
   ]
  },
  {
   "cell_type": "code",
   "execution_count": 172,
   "metadata": {},
   "outputs": [
    {
     "data": {
      "text/html": [
       "<div>\n",
       "<style scoped>\n",
       "    .dataframe tbody tr th:only-of-type {\n",
       "        vertical-align: middle;\n",
       "    }\n",
       "\n",
       "    .dataframe tbody tr th {\n",
       "        vertical-align: top;\n",
       "    }\n",
       "\n",
       "    .dataframe thead th {\n",
       "        text-align: right;\n",
       "    }\n",
       "</style>\n",
       "<table border=\"1\" class=\"dataframe\">\n",
       "  <thead>\n",
       "    <tr style=\"text-align: right;\">\n",
       "      <th></th>\n",
       "      <th>Method</th>\n",
       "      <th>Training MSE</th>\n",
       "      <th>Training R2</th>\n",
       "      <th>Test MSE</th>\n",
       "      <th>Test R2</th>\n",
       "    </tr>\n",
       "  </thead>\n",
       "  <tbody>\n",
       "    <tr>\n",
       "      <th>0</th>\n",
       "      <td>Linear regression</td>\n",
       "      <td>0.151639</td>\n",
       "      <td>0.302684</td>\n",
       "      <td>0.128429</td>\n",
       "      <td>0.296665</td>\n",
       "    </tr>\n",
       "  </tbody>\n",
       "</table>\n",
       "</div>"
      ],
      "text/plain": [
       "              Method Training MSE Training R2  Test MSE   Test R2\n",
       "0  Linear regression     0.151639    0.302684  0.128429  0.296665"
      ]
     },
     "execution_count": 172,
     "metadata": {},
     "output_type": "execute_result"
    }
   ],
   "source": [
    "lr_results"
   ]
  },
  {
   "cell_type": "markdown",
   "metadata": {},
   "source": [
    "[According to James D McCaffrey](https://jamesmccaffrey.wordpress.com/2011/08/20/mean-squared-error-versus-predictive-accuracy/), PhD, the more accurate model is the one that has the lowest mean squared error.\n",
    "### `¶` the sentence's completion above was recommnded after `McCaffrey, PhD`"
   ]
  },
  {
   "cell_type": "markdown",
   "metadata": {},
   "source": [
    "We can see that our results have been pretty accurate on both the training and testing data with the mean squared error metrics."
   ]
  },
  {
   "cell_type": "markdown",
   "metadata": {},
   "source": [
    "The tutorial next recommends using some other models to make predictions."
   ]
  },
  {
   "cell_type": "code",
   "execution_count": 173,
   "metadata": {},
   "outputs": [
    {
     "data": {
      "text/plain": [
       "RandomForestRegressor(max_depth=2, random_state=42)"
      ]
     },
     "execution_count": 173,
     "metadata": {},
     "output_type": "execute_result"
    }
   ],
   "source": [
    "from sklearn.ensemble import RandomForestRegressor\n",
    "rf = RandomForestRegressor(max_depth=2, random_state=42)\n",
    "rf.fit(X_train, y_train)"
   ]
  },
  {
   "cell_type": "markdown",
   "metadata": {},
   "source": [
    "Similar to the linear regresison model, these algorithms are completely blackboxed to me. I only know that they calculate and make predictions based on the data."
   ]
  },
  {
   "cell_type": "code",
   "execution_count": 174,
   "metadata": {},
   "outputs": [],
   "source": [
    "y_rf_train_pred = rf.predict(X_train)\n",
    "y_rf_test_pred = rf.predict(X_test)"
   ]
  },
  {
   "cell_type": "markdown",
   "metadata": {},
   "source": [
    "We again task the models with making predictions based on our training and testing data."
   ]
  },
  {
   "cell_type": "code",
   "execution_count": 175,
   "metadata": {},
   "outputs": [],
   "source": [
    "rf_train_mse = mean_squared_error(y_train, y_rf_train_pred)\n",
    "rf_train_r2 = r2_score(y_train, y_rf_train_pred)\n",
    "rf_test_mse = mean_squared_error(y_test, y_rf_test_pred)\n",
    "rf_test_r2 = r2_score(y_test, y_rf_test_pred)"
   ]
  },
  {
   "cell_type": "markdown",
   "metadata": {},
   "source": [
    "And again, we test the performance metrics of this model's predictions of our data."
   ]
  },
  {
   "cell_type": "code",
   "execution_count": 176,
   "metadata": {},
   "outputs": [],
   "source": [
    "rf_results = pd.DataFrame(['Random forest', rf_train_mse, rf_train_r2, rf_test_mse, rf_test_r2]).transpose()\n",
    "rf_results.columns = ['Method', 'Training MSE', 'Training R2', 'Test MSE', 'Test R2']"
   ]
  },
  {
   "cell_type": "markdown",
   "metadata": {},
   "source": [
    "Consolidating the results, we can see how we performed with the random forest model."
   ]
  },
  {
   "cell_type": "code",
   "execution_count": 177,
   "metadata": {},
   "outputs": [
    {
     "data": {
      "text/html": [
       "<div>\n",
       "<style scoped>\n",
       "    .dataframe tbody tr th:only-of-type {\n",
       "        vertical-align: middle;\n",
       "    }\n",
       "\n",
       "    .dataframe tbody tr th {\n",
       "        vertical-align: top;\n",
       "    }\n",
       "\n",
       "    .dataframe thead th {\n",
       "        text-align: right;\n",
       "    }\n",
       "</style>\n",
       "<table border=\"1\" class=\"dataframe\">\n",
       "  <thead>\n",
       "    <tr style=\"text-align: right;\">\n",
       "      <th></th>\n",
       "      <th>Method</th>\n",
       "      <th>Training MSE</th>\n",
       "      <th>Training R2</th>\n",
       "      <th>Test MSE</th>\n",
       "      <th>Test R2</th>\n",
       "    </tr>\n",
       "  </thead>\n",
       "  <tbody>\n",
       "    <tr>\n",
       "      <th>0</th>\n",
       "      <td>Random forest</td>\n",
       "      <td>0.149159</td>\n",
       "      <td>0.314085</td>\n",
       "      <td>0.129543</td>\n",
       "      <td>0.290565</td>\n",
       "    </tr>\n",
       "  </tbody>\n",
       "</table>\n",
       "</div>"
      ],
      "text/plain": [
       "          Method Training MSE Training R2  Test MSE   Test R2\n",
       "0  Random forest     0.149159    0.314085  0.129543  0.290565"
      ]
     },
     "execution_count": 177,
     "metadata": {},
     "output_type": "execute_result"
    }
   ],
   "source": [
    "rf_results"
   ]
  },
  {
   "cell_type": "markdown",
   "metadata": {},
   "source": [
    "It looks like the random forest model performed quite similarly to the linear regression model."
   ]
  },
  {
   "cell_type": "code",
   "execution_count": 178,
   "metadata": {},
   "outputs": [
    {
     "data": {
      "text/plain": [
       "ExtraTreeRegressor(random_state=42)"
      ]
     },
     "execution_count": 178,
     "metadata": {},
     "output_type": "execute_result"
    }
   ],
   "source": [
    "from sklearn.tree import ExtraTreeRegressor\n",
    "et = ExtraTreeRegressor(random_state=42)\n",
    "et.fit(X_train, y_train)"
   ]
  },
  {
   "cell_type": "markdown",
   "metadata": {},
   "source": [
    "The final model we're going to use is the extra tree regressor. We will see how it performs and finally compare it to our previous two models."
   ]
  },
  {
   "cell_type": "code",
   "execution_count": 179,
   "metadata": {},
   "outputs": [],
   "source": [
    "y_et_train_pred = et.predict(X_train)\n",
    "y_et_test_pred = et.predict(X_test)"
   ]
  },
  {
   "cell_type": "markdown",
   "metadata": {},
   "source": [
    "We make predictions based on the model, and then test the performance of it."
   ]
  },
  {
   "cell_type": "code",
   "execution_count": 180,
   "metadata": {},
   "outputs": [],
   "source": [
    "et_train_mse = mean_squared_error(y_train, y_et_train_pred)\n",
    "et_train_r2 = r2_score(y_train, y_et_train_pred)\n",
    "et_test_mse = mean_squared_error(y_test, y_et_test_pred)\n",
    "et_test_r2 = r2_score(y_test, y_et_test_pred)"
   ]
  },
  {
   "cell_type": "markdown",
   "metadata": {},
   "source": [
    "And our performance metrics appear as such."
   ]
  },
  {
   "cell_type": "code",
   "execution_count": 181,
   "metadata": {},
   "outputs": [],
   "source": [
    "et_results = pd.DataFrame(['Extra Tree', et_train_mse, et_train_r2, et_test_mse, et_test_r2]).transpose()\n",
    "et_results.columns = ['Method', 'Training MSE', 'Training R2', 'Test MSE', 'Test R2']"
   ]
  },
  {
   "cell_type": "code",
   "execution_count": 182,
   "metadata": {},
   "outputs": [
    {
     "data": {
      "text/html": [
       "<div>\n",
       "<style scoped>\n",
       "    .dataframe tbody tr th:only-of-type {\n",
       "        vertical-align: middle;\n",
       "    }\n",
       "\n",
       "    .dataframe tbody tr th {\n",
       "        vertical-align: top;\n",
       "    }\n",
       "\n",
       "    .dataframe thead th {\n",
       "        text-align: right;\n",
       "    }\n",
       "</style>\n",
       "<table border=\"1\" class=\"dataframe\">\n",
       "  <thead>\n",
       "    <tr style=\"text-align: right;\">\n",
       "      <th></th>\n",
       "      <th>Method</th>\n",
       "      <th>Training MSE</th>\n",
       "      <th>Training R2</th>\n",
       "      <th>Test MSE</th>\n",
       "      <th>Test R2</th>\n",
       "    </tr>\n",
       "  </thead>\n",
       "  <tbody>\n",
       "    <tr>\n",
       "      <th>0</th>\n",
       "      <td>Extra Tree</td>\n",
       "      <td>0.0</td>\n",
       "      <td>1.0</td>\n",
       "      <td>0.317308</td>\n",
       "      <td>-0.737722</td>\n",
       "    </tr>\n",
       "  </tbody>\n",
       "</table>\n",
       "</div>"
      ],
      "text/plain": [
       "       Method Training MSE Training R2  Test MSE   Test R2\n",
       "0  Extra Tree          0.0         1.0  0.317308 -0.737722"
      ]
     },
     "execution_count": 182,
     "metadata": {},
     "output_type": "execute_result"
    }
   ],
   "source": [
    "et_results"
   ]
  },
  {
   "cell_type": "markdown",
   "metadata": {},
   "source": [
    "The scary part about using blackboxed algorithms is not understanding why they perform a certain way. With the previous two algorithms, we ended up with results between 0 and 1, and none of them were negative. In this case, we've ended up not only with results as both 0 and 1, but also with results as negative.\n",
    "### `¶` GitHub Copilot saw the negative results, and recommended mentioning that as suggested text\n",
    "\n",
    "Meanwhile, I do not know why the results are negative. I am unfamiliar with these algorithms and am therefore uneqipped to understand why they perform in such a way."
   ]
  },
  {
   "cell_type": "markdown",
   "metadata": {},
   "source": [
    "Next, we can combine our results to see an entire dataframe of how our models performed."
   ]
  },
  {
   "cell_type": "code",
   "execution_count": 183,
   "metadata": {},
   "outputs": [
    {
     "data": {
      "text/html": [
       "<div>\n",
       "<style scoped>\n",
       "    .dataframe tbody tr th:only-of-type {\n",
       "        vertical-align: middle;\n",
       "    }\n",
       "\n",
       "    .dataframe tbody tr th {\n",
       "        vertical-align: top;\n",
       "    }\n",
       "\n",
       "    .dataframe thead th {\n",
       "        text-align: right;\n",
       "    }\n",
       "</style>\n",
       "<table border=\"1\" class=\"dataframe\">\n",
       "  <thead>\n",
       "    <tr style=\"text-align: right;\">\n",
       "      <th></th>\n",
       "      <th>Method</th>\n",
       "      <th>Training MSE</th>\n",
       "      <th>Training R2</th>\n",
       "      <th>Test MSE</th>\n",
       "      <th>Test R2</th>\n",
       "    </tr>\n",
       "  </thead>\n",
       "  <tbody>\n",
       "    <tr>\n",
       "      <th>0</th>\n",
       "      <td>Linear regression</td>\n",
       "      <td>0.151639</td>\n",
       "      <td>0.302684</td>\n",
       "      <td>0.128429</td>\n",
       "      <td>0.296665</td>\n",
       "    </tr>\n",
       "    <tr>\n",
       "      <th>0</th>\n",
       "      <td>Random forest</td>\n",
       "      <td>0.149159</td>\n",
       "      <td>0.314085</td>\n",
       "      <td>0.129543</td>\n",
       "      <td>0.290565</td>\n",
       "    </tr>\n",
       "    <tr>\n",
       "      <th>0</th>\n",
       "      <td>Extra Tree</td>\n",
       "      <td>0.0</td>\n",
       "      <td>1.0</td>\n",
       "      <td>0.317308</td>\n",
       "      <td>-0.737722</td>\n",
       "    </tr>\n",
       "  </tbody>\n",
       "</table>\n",
       "</div>"
      ],
      "text/plain": [
       "              Method Training MSE Training R2  Test MSE   Test R2\n",
       "0  Linear regression     0.151639    0.302684  0.128429  0.296665\n",
       "0      Random forest     0.149159    0.314085  0.129543  0.290565\n",
       "0         Extra Tree          0.0         1.0  0.317308 -0.737722"
      ]
     },
     "execution_count": 183,
     "metadata": {},
     "output_type": "execute_result"
    }
   ],
   "source": [
    "pd.concat([lr_results, rf_results, et_results])"
   ]
  },
  {
   "cell_type": "markdown",
   "metadata": {},
   "source": [
    "# Visualizing"
   ]
  },
  {
   "cell_type": "markdown",
   "metadata": {},
   "source": [
    "Our final step is to visualize our results. We will be using both Python's `Matplotlib` library and `Numpy` library to plot our results."
   ]
  },
  {
   "cell_type": "code",
   "execution_count": 189,
   "metadata": {},
   "outputs": [
    {
     "data": {
      "text/plain": [
       "Text(0.5, 0, 'Experimental Loan Status')"
      ]
     },
     "execution_count": 189,
     "metadata": {},
     "output_type": "execute_result"
    },
    {
     "data": {
      "image/png": "[encoded data removed]",
      "text/plain": [
       "<Figure size 720x720 with 1 Axes>"
      ]
     },
     "metadata": {
      "needs_background": "light"
     },
     "output_type": "display_data"
    }
   ],
   "source": [
    "import matplotlib.pyplot as plt\n",
    "import numpy as np\n",
    "\n",
    "plt.figure(figsize=(10, 10))\n",
    "\n",
    "plt.scatter(x=y_train, y=y_lr_train_pred, c=\"#7CAE00\", alpha=0.3)\n",
    "z = np.polyfit(y_train, y_lr_train_pred, 1)\n",
    "p = np.poly1d(z)\n",
    "\n",
    "plt.plot(y_train,p(y_train),\"#F8766D\")\n",
    "plt.ylabel('Predicted Loan Status')\n",
    "plt.xlabel('Experimental Loan Status')"
   ]
  },
  {
   "cell_type": "markdown",
   "metadata": {},
   "source": [
    "Looking at our visualizations of the linear regression model, it would appear that the predicted loan status was slightly lower than the loan statuses in actuality."
   ]
  },
  {
   "cell_type": "markdown",
   "metadata": {},
   "source": [
    "## What can this tell us about machine learning models?\n",
    "Just from an anecdotal perspective of using machine learning models, it would appear that if a machine learning model was predicting who desrves a loan, it might give out less loans than actually are given out. This could possible be a good or a bad thing, depending on how predatory the loans are and to whom they are going. However, it is quite fascinating to see the results of a machine learning model having experimented with it myself."
   ]
  }
 ],
 "metadata": {
  "interpreter": {
   "hash": "a5c207c24819a56f226f88a754ffc533179c50542ee96acbd577b23a5b1935ae"
  },
  "kernelspec": {
   "display_name": "Python 3.10.0 ('venv': venv)",
   "language": "python",
   "name": "python3"
  },
  "language_info": {
   "codemirror_mode": {
    "name": "ipython",
    "version": 3
   },
   "file_extension": ".py",
   "mimetype": "text/x-python",
   "name": "python",
   "nbconvert_exporter": "python",
   "pygments_lexer": "ipython3",
   "version": "3.10.0"
  },
  "orig_nbformat": 4
 },
 "nbformat": 4,
 "nbformat_minor": 2
}
