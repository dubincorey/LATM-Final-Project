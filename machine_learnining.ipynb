{
 "cells": [
  {
   "cell_type": "markdown",
   "metadata": {},
   "source": [
    "I am adding this note having written a good amount that follows this text: during the process of working, I have been using an extension for my text editor (Visual Studio Code) called `GitHub Copilot`. This is the first time I've used it extensively, and it is frighteningly accurate at writing similar text to what I planned in my head. To provide an example of this, a piece of text which may prompt the Copilot's assistance might simply be: `I` \n",
    "\n",
    "The exact recommended text shown for me to follow the word `I` from GitHub Copilot is: `am writing this text to test the GitHub Copilot extension.` As a matter of fact, GitHub Copilot recommended the text `am writing this text to test the GitHub Copilot extension.` in the previous sentence following the `:`."
   ]
  },
  {
   "cell_type": "markdown",
   "metadata": {},
   "source": [
    "![Video of me typing with the extension](data/clip2.gif \"gif\")"
   ]
  },
  {
   "cell_type": "markdown",
   "metadata": {},
   "source": [
    "Provided above is a short video showing how GitHub Copilot works, and just how accurate it is at writing similar text. I thought this anecdote would be an interesting look into AI's capabilities and what some of the implications are behand a tool such as this. Perhaps software engineers will be replaced by tools like this in the future. A question it also brings up is: who gets credit for writing the text when I decide that the suggested text is better than what I was going to write (or exactly what I was going to write)? Constantly, I am prompted by the extension with suggested text based on what I've previously written, making it difficult not to write the same things the extension is suggesting. Given that, I've decided to make this project both an exploration of machine learning models from a novice's perspective, as well as an exploration of what an AI assistant decides I should write (both in text and in code. After all, this AI is intended for writing code)."
   ]
  },
  {
   "cell_type": "markdown",
   "metadata": {},
   "source": [
    "The process that I'm taking in order to prepare myself for creating and applying a machine learning model to a dataset is by following [this tutorial](https://towardsdatascience.com/how-to-build-your-first-machine-learning-model-in-python-e70fd1907cdd). The creator of the article is Chanin Nantasenamat, an associate professor of BioInformatics at Mahidol University in Thailand."
   ]
  },
  {
   "cell_type": "markdown",
   "metadata": {},
   "source": [
    "My plan is to look at a dataset from NYC's [open data website](opendata.cityofnewyork.us), and apply a machine learning model in the same way that Professor Nantasenamat is applying it. I will attempt to document everything I can so that the process is completely transparent."
   ]
  },
  {
   "cell_type": "markdown",
   "metadata": {},
   "source": [
    "To start, I will explain the entire setup of the project. I've created a virtual environment which will be used to install all the necessary packages and libraries. This ensures that the code is running on the same version of Python that I'm using, and that the packages are the same. This virtual environment, called `venv`, is created in the same directory as the notebook. However, someone who views this notebook will see the code in the notebook, and not the code in the virtual environment. This is because I've created a file called `gitignore` in the directory of the notebook. This file tells Git (the software that tracks changes in files and transfers them to GitHub) to ignore the virtual environment directory."
   ]
  },
  {
   "cell_type": "code",
   "execution_count": 2,
   "metadata": {},
   "outputs": [],
   "source": [
    "import pandas as pd"
   ]
  }
 ],
 "metadata": {
  "interpreter": {
   "hash": "a5c207c24819a56f226f88a754ffc533179c50542ee96acbd577b23a5b1935ae"
  },
  "kernelspec": {
   "display_name": "Python 3.10.0 ('venv': venv)",
   "language": "python",
   "name": "python3"
  },
  "language_info": {
   "codemirror_mode": {
    "name": "ipython",
    "version": 3
   },
   "file_extension": ".py",
   "mimetype": "text/x-python",
   "name": "python",
   "nbconvert_exporter": "python",
   "pygments_lexer": "ipython3",
   "version": "3.10.0"
  },
  "orig_nbformat": 4
 },
 "nbformat": 4,
 "nbformat_minor": 2
}
