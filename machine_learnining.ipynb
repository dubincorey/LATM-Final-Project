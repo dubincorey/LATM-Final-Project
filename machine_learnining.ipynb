{
 "cells": [
  {
   "cell_type": "markdown",
   "metadata": {},
   "source": [
    "I am adding this note having written a good amount that follows this text: during the process of working, I have been using an extension for my text editor (Visual Studio Code) called `GitHub Copilot`. This is the first time I've used it extensively, and it is frighteningly accurate at writing similar text to what I planned in my head. To provide an example of this, a piece of text which may prompt the Copilot's assistance might simply be: `I` \n",
    "\n",
    "The exact recommended text shown for me to follow the word `I` from GitHub Copilot is: `am writing this text to test the GitHub Copilot extension.` As a matter of fact, GitHub Copilot recommended the text `am writing this text to test the GitHub Copilot extension.` in the previous sentence following the `:`."
   ]
  },
  {
   "cell_type": "markdown",
   "metadata": {},
   "source": [
    "![Video of me typing with the extension](https://imgur.com/ShHpgXC)"
   ]
  },
  {
   "cell_type": "markdown",
   "metadata": {},
   "source": [
    "Provided above is a short video showing how GitHub Copilot works, and just how accurate it is at writing similar text."
   ]
  },
  {
   "cell_type": "markdown",
   "metadata": {},
   "source": [
    "The process that I'm taking in order to prepare myself for creating and applying a machine learning model to a dataset is by following [this tutorial](https://towardsdatascience.com/how-to-build-your-first-machine-learning-model-in-python-e70fd1907cdd). The creator of the article is Chanin Nantasenamat, an associate professor of BioInformatics at Mahidol University in Thailand."
   ]
  },
  {
   "cell_type": "markdown",
   "metadata": {},
   "source": [
    "My plan is to look at a dataset from NYC's [open data website](opendata.cityofnewyork.us), and apply a machine learning model in the same way that Professor Nantasenamat is applying it. I will attempt to document everything I can so that the process is completely transparent."
   ]
  },
  {
   "cell_type": "markdown",
   "metadata": {},
   "source": [
    "To start, I will explain the entire setup of the project. I've created a virtual environment which will be used to install all the necessary packages and libraries. This ensures that the code is running on the same version of Python that I'm using, and that the packages are the same. This virtual environment, called `venv`, is created in the same directory as the notebook. However, someone who views this notebook will see the code in the notebook, and not the code in the virtual environment. This is because I've created a file called `gitignore` in the directory of the notebook. This file tells Git (the software that tracks changes in files and transfers them to GitHub) to ignore the virtual environment directory."
   ]
  },
  {
   "cell_type": "code",
   "execution_count": 3,
   "metadata": {},
   "outputs": [
    {
     "name": "stdout",
     "output_type": "stream",
     "text": [
      "Collecting pandas\n",
      "  Downloading pandas-1.4.2-cp310-cp310-win_amd64.whl (10.6 MB)\n",
      "     --------------------------------------- 10.6/10.6 MB 19.8 MB/s eta 0:00:00\n",
      "Collecting pytz>=2020.1\n",
      "  Downloading pytz-2022.1-py2.py3-none-any.whl (503 kB)\n",
      "     ------------------------------------- 503.5/503.5 KB 30.8 MB/s eta 0:00:00\n",
      "Requirement already satisfied: python-dateutil>=2.8.1 in c:\\users\\12014\\desktop\\latm-final-project\\venv\\lib\\site-packages (from pandas) (2.8.2)\n",
      "Collecting numpy>=1.21.0\n",
      "  Downloading numpy-1.22.3-cp310-cp310-win_amd64.whl (14.7 MB)\n",
      "     --------------------------------------- 14.7/14.7 MB 26.2 MB/s eta 0:00:00\n",
      "Requirement already satisfied: six>=1.5 in c:\\users\\12014\\desktop\\latm-final-project\\venv\\lib\\site-packages (from python-dateutil>=2.8.1->pandas) (1.16.0)\n",
      "Installing collected packages: pytz, numpy, pandas\n",
      "Successfully installed numpy-1.22.3 pandas-1.4.2 pytz-2022.1\n"
     ]
    },
    {
     "name": "stderr",
     "output_type": "stream",
     "text": [
      "WARNING: You are using pip version 22.0.3; however, version 22.0.4 is available.\n",
      "You should consider upgrading via the 'C:\\Users\\12014\\Desktop\\LATM-Final-Project\\venv\\Scripts\\python.exe -m pip install --upgrade pip' command.\n"
     ]
    }
   ],
   "source": [
    "import pandas as pd"
   ]
  },
  {
   "cell_type": "code",
   "execution_count": null,
   "metadata": {},
   "outputs": [],
   "source": []
  }
 ],
 "metadata": {
  "interpreter": {
   "hash": "a5c207c24819a56f226f88a754ffc533179c50542ee96acbd577b23a5b1935ae"
  },
  "kernelspec": {
   "display_name": "Python 3.10.0 ('venv': venv)",
   "language": "python",
   "name": "python3"
  },
  "language_info": {
   "codemirror_mode": {
    "name": "ipython",
    "version": 3
   },
   "file_extension": ".py",
   "mimetype": "text/x-python",
   "name": "python",
   "nbconvert_exporter": "python",
   "pygments_lexer": "ipython3",
   "version": "3.10.0"
  },
  "orig_nbformat": 4
 },
 "nbformat": 4,
 "nbformat_minor": 2
}
